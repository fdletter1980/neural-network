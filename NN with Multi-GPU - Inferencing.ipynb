{
 "cells": [
  {
   "cell_type": "markdown",
   "metadata": {},
   "source": [
    "# Importing the necessary libraries"
   ]
  },
  {
   "cell_type": "code",
   "execution_count": null,
   "metadata": {},
   "outputs": [],
   "source": [
    "! pip install --no-index --find-links ../input/reqdata python-gdcm pydicom pylibjpeg-libjpeg"
   ]
  },
  {
   "cell_type": "code",
   "execution_count": 4,
   "metadata": {
    "execution": {
     "iopub.execute_input": "2023-02-07T20:52:26.377349Z",
     "iopub.status.busy": "2023-02-07T20:52:26.376920Z",
     "iopub.status.idle": "2023-02-07T20:52:34.037872Z",
     "shell.execute_reply": "2023-02-07T20:52:34.036842Z",
     "shell.execute_reply.started": "2023-02-07T20:52:26.377311Z"
    }
   },
   "outputs": [],
   "source": [
    "%matplotlib inline\n",
    "import pandas as pd\n",
    "import numpy as np\n",
    "import argparse\n",
    "import locale\n",
    "\n",
    "# load and display an image with Matplotlib\n",
    "from matplotlib import image\n",
    "from matplotlib import pyplot\n",
    "\n",
    "# Libraries to help with data visualization\n",
    "import matplotlib.pyplot as plt\n",
    "%matplotlib inline\n",
    "import matplotlib.image as mpimg\n",
    "import seaborn as sns\n",
    "\n",
    "## Model Building\n",
    "import sklearn     \n",
    "from sklearn import metrics\n",
    "from sklearn.model_selection import train_test_split\n",
    "from sklearn import preprocessing\n",
    "from sklearn.metrics import accuracy_score, confusion_matrix, precision_score, recall_score, f1_score, precision_recall_curve, auc, roc_auc_score\n",
    "from sklearn.decomposition import PCA\n",
    "from sklearn.metrics import roc_curve\n",
    "from matplotlib import pyplot\n",
    "from sklearn.preprocessing import LabelEncoder\n",
    "\n",
    "## Import Keras & Tensoflow\n",
    "#from keras.utils import np_utils\n",
    "import keras\n",
    "import keras.layers as layers\n",
    "import tensorflow.keras\n",
    "from tensorflow.keras.preprocessing.image import ImageDataGenerator\n",
    "from tensorflow.keras.models import Sequential\n",
    "from tensorflow.keras.layers import Dense\n",
    "from tensorflow.keras.layers import Dropout\n",
    "from tensorflow.keras.layers import Flatten\n",
    "from keras.layers.convolutional import Conv2D\n",
    "from keras.layers.convolutional import MaxPooling2D\n",
    "from tensorflow.keras.layers import BatchNormalization\n",
    "from tensorflow.keras.callbacks import ModelCheckpoint,ReduceLROnPlateau,CSVLogger\n",
    "#from tensorflow.keras.utils.np_utils import to_categorical # convert to one-hot-encoding\n",
    "from tensorflow.keras.models import Sequential\n",
    "from tensorflow.keras.layers import Dense, Dropout, Flatten, Conv2D, MaxPool2D, GlobalMaxPooling2D\n",
    "from tensorflow.keras.optimizers import RMSprop\n",
    "from tensorflow.keras.preprocessing.image import ImageDataGenerator\n",
    "from tensorflow.keras.optimizers import Adam#from tensorflow.keras.utils.np_utils import to_categorical # convert to one-hot-encoding\n",
    "from tensorflow.keras.models import Sequential\n",
    "from tensorflow.keras.layers import Dense, Dropout, Flatten, Conv2D, MaxPool2D, GlobalMaxPooling2D\n",
    "from tensorflow.keras.optimizers import RMSprop\n",
    "from tensorflow.keras.preprocessing.image import ImageDataGenerator\n",
    "from tensorflow.keras.optimizers import Adam\n",
    "from tensorflow.keras.models import Sequential\n",
    "from tensorflow.keras.layers import BatchNormalization\n",
    "from tensorflow.keras.layers import Conv2D\n",
    "from tensorflow.keras.layers import MaxPooling2D\n",
    "from tensorflow.keras.layers import Activation\n",
    "from tensorflow.keras.layers import Dropout\n",
    "from tensorflow.keras.layers import Dense\n",
    "from tensorflow.keras.layers import Flatten\n",
    "from tensorflow.keras.layers import Input\n",
    "from tensorflow.keras.models import Model\n",
    "from tensorflow.keras.layers import concatenate\n",
    "from joblib import Parallel, delayed\n",
    "\n",
    "# Import SMOTE\n",
    "#from imblearn.over_sampling import SMOTE\n",
    "\n",
    "import cv2\n",
    "import os\n",
    "os.environ['KMP_DUPLICATE_LIB_OK']='True'\n",
    "import pydicom as pydicom\n",
    "from pydicom.pixel_data_handlers.util import apply_voi_lut\n",
    "from tqdm.notebook import tqdm as tqdm\n",
    "import ray\n",
    "import time\n",
    "\n",
    "from PIL import Image\n",
    "import glob"
   ]
  },
  {
   "cell_type": "code",
   "execution_count": 5,
   "metadata": {
    "execution": {
     "iopub.execute_input": "2023-02-07T20:52:34.039934Z",
     "iopub.status.busy": "2023-02-07T20:52:34.039564Z",
     "iopub.status.idle": "2023-02-07T20:52:34.048038Z",
     "shell.execute_reply": "2023-02-07T20:52:34.046328Z",
     "shell.execute_reply.started": "2023-02-07T20:52:34.039902Z"
    }
   },
   "outputs": [],
   "source": [
    "input_dir = \"../input/rsna-breast-cancer-detection\"\n",
    "output_dir = \"output/train/\"\n",
    "\n",
    "SIZE = 256\n",
    "EXTENSION = \"png\"\n",
    "\n",
    "os.makedirs(output_dir, exist_ok=True)"
   ]
  },
  {
   "cell_type": "code",
   "execution_count": 6,
   "metadata": {
    "execution": {
     "iopub.execute_input": "2023-02-07T20:52:34.051781Z",
     "iopub.status.busy": "2023-02-07T20:52:34.050971Z",
     "iopub.status.idle": "2023-02-07T20:52:34.076822Z",
     "shell.execute_reply": "2023-02-07T20:52:34.075521Z",
     "shell.execute_reply.started": "2023-02-07T20:52:34.051733Z"
    }
   },
   "outputs": [],
   "source": [
    "def process(f, size=256, save_folder=\"\", extension=\"png\"):\n",
    "    patient = f.split('/')[-2]\n",
    "    image = f.split('/')[-1][:-4]\n",
    "\n",
    "    dicom = pydicom.dcmread(f)\n",
    "    img = dicom.pixel_array\n",
    "\n",
    "    img = (img - img.min()) / (img.max() - img.min())\n",
    "\n",
    "    if dicom.PhotometricInterpretation == \"MONOCHROME1\":\n",
    "        img = 1 - img\n",
    "\n",
    "    img = cv2.resize(img, (size, size))\n",
    "\n",
    "    cv2.imwrite(save_folder + f\"{patient}_{image}.{extension}\", (img * 255).astype(np.uint8))"
   ]
  },
  {
   "cell_type": "markdown",
   "metadata": {},
   "source": [
    "# Model Prediction"
   ]
  },
  {
   "cell_type": "code",
   "execution_count": 7,
   "metadata": {
    "execution": {
     "iopub.execute_input": "2023-02-07T20:52:41.813185Z",
     "iopub.status.busy": "2023-02-07T20:52:41.812752Z",
     "iopub.status.idle": "2023-02-07T20:52:43.600323Z",
     "shell.execute_reply": "2023-02-07T20:52:43.599032Z",
     "shell.execute_reply.started": "2023-02-07T20:52:41.813149Z"
    }
   },
   "outputs": [
    {
     "name": "stderr",
     "output_type": "stream",
     "text": [
      "2023-02-07 20:52:41.905469: I tensorflow/core/common_runtime/process_util.cc:146] Creating new thread pool with default inter op setting: 2. Tune using inter_op_parallelism_threads for best performance.\n"
     ]
    }
   ],
   "source": [
    "new_model = tensorflow.keras.models.load_model('/kaggle/input/d/freddeletter/my-model/my_model')"
   ]
  },
  {
   "cell_type": "code",
   "execution_count": 8,
   "metadata": {
    "execution": {
     "iopub.execute_input": "2023-02-07T20:52:44.297201Z",
     "iopub.status.busy": "2023-02-07T20:52:44.296798Z",
     "iopub.status.idle": "2023-02-07T20:52:44.307433Z",
     "shell.execute_reply": "2023-02-07T20:52:44.306503Z",
     "shell.execute_reply.started": "2023-02-07T20:52:44.297168Z"
    }
   },
   "outputs": [],
   "source": [
    "test_images = glob.glob(\"/kaggle/input/rsna-breast-cancer-detection/test_images/*/*.dcm\")"
   ]
  },
  {
   "cell_type": "code",
   "execution_count": 9,
   "metadata": {
    "execution": {
     "iopub.execute_input": "2023-02-07T20:52:46.353826Z",
     "iopub.status.busy": "2023-02-07T20:52:46.353391Z",
     "iopub.status.idle": "2023-02-07T20:52:46.359426Z",
     "shell.execute_reply": "2023-02-07T20:52:46.358213Z",
     "shell.execute_reply.started": "2023-02-07T20:52:46.353791Z"
    }
   },
   "outputs": [],
   "source": [
    "output_dir_test = \"output/test/\"\n",
    "os.makedirs(output_dir_test, exist_ok=True)"
   ]
  },
  {
   "cell_type": "code",
   "execution_count": 10,
   "metadata": {
    "execution": {
     "iopub.execute_input": "2023-02-07T20:52:47.886548Z",
     "iopub.status.busy": "2023-02-07T20:52:47.886169Z",
     "iopub.status.idle": "2023-02-07T20:52:50.173899Z",
     "shell.execute_reply": "2023-02-07T20:52:50.172695Z",
     "shell.execute_reply.started": "2023-02-07T20:52:47.886516Z"
    }
   },
   "outputs": [
    {
     "data": {
      "application/vnd.jupyter.widget-view+json": {
       "model_id": "a3bbf305e1af4753a4542397834ae620",
       "version_major": 2,
       "version_minor": 0
      },
      "text/plain": [
       "  0%|          | 0/4 [00:00<?, ?it/s]"
      ]
     },
     "metadata": {},
     "output_type": "display_data"
    }
   ],
   "source": [
    "_ = Parallel(n_jobs=4)(\n",
    "    delayed(process)(uid, size=SIZE, save_folder=output_dir_test, extension=EXTENSION)\n",
    "    for uid in tqdm(test_images)\n",
    ")"
   ]
  },
  {
   "cell_type": "code",
   "execution_count": 11,
   "metadata": {
    "execution": {
     "iopub.execute_input": "2023-02-07T20:52:50.175935Z",
     "iopub.status.busy": "2023-02-07T20:52:50.175565Z",
     "iopub.status.idle": "2023-02-07T20:52:50.202259Z",
     "shell.execute_reply": "2023-02-07T20:52:50.201331Z",
     "shell.execute_reply.started": "2023-02-07T20:52:50.175896Z"
    }
   },
   "outputs": [
    {
     "name": "stdout",
     "output_type": "stream",
     "text": [
      "\n",
      " data shape : (4, 32, 32, 3)\n"
     ]
    }
   ],
   "source": [
    "filenames = list()\n",
    "\n",
    "def datSetGenerator(path):\n",
    "    index = 0\n",
    "    image_list = []\n",
    "    for filename in glob.glob(path+'*.png'):\n",
    "        image_list.append(cv2.resize(cv2.imread(filename),(32, 32))/255)\n",
    "        filenames.append(filename)\n",
    "        index += 1\n",
    "        if index == 500000:\n",
    "            break\n",
    "    return np.array(image_list)\n",
    "\n",
    "\n",
    "if __name__ == '__main__':\n",
    "\n",
    "    # for testing the generator\n",
    "    path = \"output/test/\"\n",
    "    #path = \"/home/project/train_images/\"\n",
    "    images_test = datSetGenerator(path)\n",
    "    print(\"\\n data shape :\",images_test.shape)"
   ]
  },
  {
   "cell_type": "code",
   "execution_count": 12,
   "metadata": {
    "execution": {
     "iopub.execute_input": "2023-02-07T20:52:52.106881Z",
     "iopub.status.busy": "2023-02-07T20:52:52.106330Z",
     "iopub.status.idle": "2023-02-07T20:52:52.127544Z",
     "shell.execute_reply": "2023-02-07T20:52:52.126565Z",
     "shell.execute_reply.started": "2023-02-07T20:52:52.106830Z"
    }
   },
   "outputs": [],
   "source": [
    "df_t = pd.read_csv(os.path.join(input_dir, \"test.csv\"))"
   ]
  },
  {
   "cell_type": "code",
   "execution_count": 13,
   "metadata": {
    "execution": {
     "iopub.execute_input": "2023-02-07T20:52:53.729290Z",
     "iopub.status.busy": "2023-02-07T20:52:53.728040Z",
     "iopub.status.idle": "2023-02-07T20:52:53.751471Z",
     "shell.execute_reply": "2023-02-07T20:52:53.750582Z",
     "shell.execute_reply.started": "2023-02-07T20:52:53.729246Z"
    }
   },
   "outputs": [
    {
     "data": {
      "text/html": [
       "<div>\n",
       "<style scoped>\n",
       "    .dataframe tbody tr th:only-of-type {\n",
       "        vertical-align: middle;\n",
       "    }\n",
       "\n",
       "    .dataframe tbody tr th {\n",
       "        vertical-align: top;\n",
       "    }\n",
       "\n",
       "    .dataframe thead th {\n",
       "        text-align: right;\n",
       "    }\n",
       "</style>\n",
       "<table border=\"1\" class=\"dataframe\">\n",
       "  <thead>\n",
       "    <tr style=\"text-align: right;\">\n",
       "      <th></th>\n",
       "      <th>site_id</th>\n",
       "      <th>patient_id</th>\n",
       "      <th>image_id</th>\n",
       "      <th>laterality</th>\n",
       "      <th>view</th>\n",
       "      <th>age</th>\n",
       "      <th>implant</th>\n",
       "      <th>machine_id</th>\n",
       "      <th>prediction_id</th>\n",
       "    </tr>\n",
       "  </thead>\n",
       "  <tbody>\n",
       "    <tr>\n",
       "      <th>0</th>\n",
       "      <td>2</td>\n",
       "      <td>10008</td>\n",
       "      <td>736471439</td>\n",
       "      <td>L</td>\n",
       "      <td>MLO</td>\n",
       "      <td>81</td>\n",
       "      <td>0</td>\n",
       "      <td>21</td>\n",
       "      <td>10008_L</td>\n",
       "    </tr>\n",
       "    <tr>\n",
       "      <th>1</th>\n",
       "      <td>2</td>\n",
       "      <td>10008</td>\n",
       "      <td>1591370361</td>\n",
       "      <td>L</td>\n",
       "      <td>CC</td>\n",
       "      <td>81</td>\n",
       "      <td>0</td>\n",
       "      <td>21</td>\n",
       "      <td>10008_L</td>\n",
       "    </tr>\n",
       "    <tr>\n",
       "      <th>2</th>\n",
       "      <td>2</td>\n",
       "      <td>10008</td>\n",
       "      <td>68070693</td>\n",
       "      <td>R</td>\n",
       "      <td>MLO</td>\n",
       "      <td>81</td>\n",
       "      <td>0</td>\n",
       "      <td>21</td>\n",
       "      <td>10008_R</td>\n",
       "    </tr>\n",
       "    <tr>\n",
       "      <th>3</th>\n",
       "      <td>2</td>\n",
       "      <td>10008</td>\n",
       "      <td>361203119</td>\n",
       "      <td>R</td>\n",
       "      <td>CC</td>\n",
       "      <td>81</td>\n",
       "      <td>0</td>\n",
       "      <td>21</td>\n",
       "      <td>10008_R</td>\n",
       "    </tr>\n",
       "  </tbody>\n",
       "</table>\n",
       "</div>"
      ],
      "text/plain": [
       "   site_id  patient_id    image_id laterality view  age  implant  machine_id  \\\n",
       "0        2       10008   736471439          L  MLO   81        0          21   \n",
       "1        2       10008  1591370361          L   CC   81        0          21   \n",
       "2        2       10008    68070693          R  MLO   81        0          21   \n",
       "3        2       10008   361203119          R   CC   81        0          21   \n",
       "\n",
       "  prediction_id  \n",
       "0       10008_L  \n",
       "1       10008_L  \n",
       "2       10008_R  \n",
       "3       10008_R  "
      ]
     },
     "execution_count": 13,
     "metadata": {},
     "output_type": "execute_result"
    }
   ],
   "source": [
    "df_t"
   ]
  },
  {
   "cell_type": "code",
   "execution_count": 14,
   "metadata": {
    "execution": {
     "iopub.execute_input": "2023-02-07T20:52:55.733593Z",
     "iopub.status.busy": "2023-02-07T20:52:55.733162Z",
     "iopub.status.idle": "2023-02-07T20:52:55.739029Z",
     "shell.execute_reply": "2023-02-07T20:52:55.737822Z",
     "shell.execute_reply.started": "2023-02-07T20:52:55.733556Z"
    }
   },
   "outputs": [],
   "source": [
    "df_tt = df_t.copy()"
   ]
  },
  {
   "cell_type": "code",
   "execution_count": 15,
   "metadata": {
    "execution": {
     "iopub.execute_input": "2023-02-07T20:52:57.362955Z",
     "iopub.status.busy": "2023-02-07T20:52:57.362539Z",
     "iopub.status.idle": "2023-02-07T20:52:57.377296Z",
     "shell.execute_reply": "2023-02-07T20:52:57.376095Z",
     "shell.execute_reply.started": "2023-02-07T20:52:57.362921Z"
    }
   },
   "outputs": [
    {
     "data": {
      "text/html": [
       "<div>\n",
       "<style scoped>\n",
       "    .dataframe tbody tr th:only-of-type {\n",
       "        vertical-align: middle;\n",
       "    }\n",
       "\n",
       "    .dataframe tbody tr th {\n",
       "        vertical-align: top;\n",
       "    }\n",
       "\n",
       "    .dataframe thead th {\n",
       "        text-align: right;\n",
       "    }\n",
       "</style>\n",
       "<table border=\"1\" class=\"dataframe\">\n",
       "  <thead>\n",
       "    <tr style=\"text-align: right;\">\n",
       "      <th></th>\n",
       "      <th>site_id</th>\n",
       "      <th>patient_id</th>\n",
       "      <th>image_id</th>\n",
       "      <th>laterality</th>\n",
       "      <th>view</th>\n",
       "      <th>age</th>\n",
       "      <th>implant</th>\n",
       "      <th>machine_id</th>\n",
       "      <th>prediction_id</th>\n",
       "    </tr>\n",
       "  </thead>\n",
       "  <tbody>\n",
       "    <tr>\n",
       "      <th>0</th>\n",
       "      <td>2</td>\n",
       "      <td>10008</td>\n",
       "      <td>736471439</td>\n",
       "      <td>L</td>\n",
       "      <td>MLO</td>\n",
       "      <td>81</td>\n",
       "      <td>0</td>\n",
       "      <td>21</td>\n",
       "      <td>10008_L</td>\n",
       "    </tr>\n",
       "    <tr>\n",
       "      <th>1</th>\n",
       "      <td>2</td>\n",
       "      <td>10008</td>\n",
       "      <td>1591370361</td>\n",
       "      <td>L</td>\n",
       "      <td>CC</td>\n",
       "      <td>81</td>\n",
       "      <td>0</td>\n",
       "      <td>21</td>\n",
       "      <td>10008_L</td>\n",
       "    </tr>\n",
       "    <tr>\n",
       "      <th>2</th>\n",
       "      <td>2</td>\n",
       "      <td>10008</td>\n",
       "      <td>68070693</td>\n",
       "      <td>R</td>\n",
       "      <td>MLO</td>\n",
       "      <td>81</td>\n",
       "      <td>0</td>\n",
       "      <td>21</td>\n",
       "      <td>10008_R</td>\n",
       "    </tr>\n",
       "    <tr>\n",
       "      <th>3</th>\n",
       "      <td>2</td>\n",
       "      <td>10008</td>\n",
       "      <td>361203119</td>\n",
       "      <td>R</td>\n",
       "      <td>CC</td>\n",
       "      <td>81</td>\n",
       "      <td>0</td>\n",
       "      <td>21</td>\n",
       "      <td>10008_R</td>\n",
       "    </tr>\n",
       "  </tbody>\n",
       "</table>\n",
       "</div>"
      ],
      "text/plain": [
       "   site_id  patient_id    image_id laterality view  age  implant  machine_id  \\\n",
       "0        2       10008   736471439          L  MLO   81        0          21   \n",
       "1        2       10008  1591370361          L   CC   81        0          21   \n",
       "2        2       10008    68070693          R  MLO   81        0          21   \n",
       "3        2       10008   361203119          R   CC   81        0          21   \n",
       "\n",
       "  prediction_id  \n",
       "0       10008_L  \n",
       "1       10008_L  \n",
       "2       10008_R  \n",
       "3       10008_R  "
      ]
     },
     "execution_count": 15,
     "metadata": {},
     "output_type": "execute_result"
    }
   ],
   "source": [
    "df_tt"
   ]
  },
  {
   "cell_type": "code",
   "execution_count": 16,
   "metadata": {
    "execution": {
     "iopub.execute_input": "2023-02-07T20:53:01.745270Z",
     "iopub.status.busy": "2023-02-07T20:53:01.744843Z",
     "iopub.status.idle": "2023-02-07T20:53:01.756196Z",
     "shell.execute_reply": "2023-02-07T20:53:01.754751Z",
     "shell.execute_reply.started": "2023-02-07T20:53:01.745233Z"
    }
   },
   "outputs": [],
   "source": [
    "df_tt.drop('prediction_id', axis=1, inplace=True)"
   ]
  },
  {
   "cell_type": "code",
   "execution_count": 17,
   "metadata": {
    "execution": {
     "iopub.execute_input": "2023-02-07T20:53:03.425522Z",
     "iopub.status.busy": "2023-02-07T20:53:03.425123Z",
     "iopub.status.idle": "2023-02-07T20:53:03.450728Z",
     "shell.execute_reply": "2023-02-07T20:53:03.449356Z",
     "shell.execute_reply.started": "2023-02-07T20:53:03.425490Z"
    }
   },
   "outputs": [
    {
     "data": {
      "text/html": [
       "<div>\n",
       "<style scoped>\n",
       "    .dataframe tbody tr th:only-of-type {\n",
       "        vertical-align: middle;\n",
       "    }\n",
       "\n",
       "    .dataframe tbody tr th {\n",
       "        vertical-align: top;\n",
       "    }\n",
       "\n",
       "    .dataframe thead th {\n",
       "        text-align: right;\n",
       "    }\n",
       "</style>\n",
       "<table border=\"1\" class=\"dataframe\">\n",
       "  <thead>\n",
       "    <tr style=\"text-align: right;\">\n",
       "      <th></th>\n",
       "      <th>site_id</th>\n",
       "      <th>patient_id</th>\n",
       "      <th>image_id</th>\n",
       "      <th>age</th>\n",
       "      <th>implant</th>\n",
       "      <th>machine_id</th>\n",
       "      <th>laterality_R</th>\n",
       "      <th>view_MLO</th>\n",
       "    </tr>\n",
       "  </thead>\n",
       "  <tbody>\n",
       "    <tr>\n",
       "      <th>0</th>\n",
       "      <td>2</td>\n",
       "      <td>10008</td>\n",
       "      <td>736471439</td>\n",
       "      <td>81</td>\n",
       "      <td>0</td>\n",
       "      <td>21</td>\n",
       "      <td>0</td>\n",
       "      <td>1</td>\n",
       "    </tr>\n",
       "    <tr>\n",
       "      <th>1</th>\n",
       "      <td>2</td>\n",
       "      <td>10008</td>\n",
       "      <td>1591370361</td>\n",
       "      <td>81</td>\n",
       "      <td>0</td>\n",
       "      <td>21</td>\n",
       "      <td>0</td>\n",
       "      <td>0</td>\n",
       "    </tr>\n",
       "    <tr>\n",
       "      <th>2</th>\n",
       "      <td>2</td>\n",
       "      <td>10008</td>\n",
       "      <td>68070693</td>\n",
       "      <td>81</td>\n",
       "      <td>0</td>\n",
       "      <td>21</td>\n",
       "      <td>1</td>\n",
       "      <td>1</td>\n",
       "    </tr>\n",
       "    <tr>\n",
       "      <th>3</th>\n",
       "      <td>2</td>\n",
       "      <td>10008</td>\n",
       "      <td>361203119</td>\n",
       "      <td>81</td>\n",
       "      <td>0</td>\n",
       "      <td>21</td>\n",
       "      <td>1</td>\n",
       "      <td>0</td>\n",
       "    </tr>\n",
       "  </tbody>\n",
       "</table>\n",
       "</div>"
      ],
      "text/plain": [
       "   site_id  patient_id    image_id  age  implant  machine_id  laterality_R  \\\n",
       "0        2       10008   736471439   81        0          21             0   \n",
       "1        2       10008  1591370361   81        0          21             0   \n",
       "2        2       10008    68070693   81        0          21             1   \n",
       "3        2       10008   361203119   81        0          21             1   \n",
       "\n",
       "   view_MLO  \n",
       "0         1  \n",
       "1         0  \n",
       "2         1  \n",
       "3         0  "
      ]
     },
     "execution_count": 17,
     "metadata": {},
     "output_type": "execute_result"
    }
   ],
   "source": [
    "## Create dummy variables\n",
    "\n",
    "def encode_cat_vars(x):\n",
    "     x = pd.get_dummies(\n",
    "         x,\n",
    "         columns=x.select_dtypes(include=[\"object\", \"category\"]).columns.tolist(),\n",
    "         drop_first=True,\n",
    "     )\n",
    "     return x\n",
    "\n",
    "\n",
    "ind_vars_num_test = encode_cat_vars(df_tt)\n",
    "ind_vars_num_test.head()"
   ]
  },
  {
   "cell_type": "code",
   "execution_count": 18,
   "metadata": {
    "execution": {
     "iopub.execute_input": "2023-02-07T20:53:06.208085Z",
     "iopub.status.busy": "2023-02-07T20:53:06.207659Z",
     "iopub.status.idle": "2023-02-07T20:53:06.216701Z",
     "shell.execute_reply": "2023-02-07T20:53:06.215676Z",
     "shell.execute_reply.started": "2023-02-07T20:53:06.208042Z"
    }
   },
   "outputs": [],
   "source": [
    "#add missing columns view_CC / view_LM / view_LMO / view_ML / view_MLO\n",
    "ind_vars_num_test[\"view_CC\"] = 0\n",
    "ind_vars_num_test[\"view_LM\"] = 0\n",
    "ind_vars_num_test[\"view_LMO\"] = 0\n",
    "ind_vars_num_test[\"view_ML\"] = 0"
   ]
  },
  {
   "cell_type": "code",
   "execution_count": 19,
   "metadata": {
    "execution": {
     "iopub.execute_input": "2023-02-07T20:53:08.361509Z",
     "iopub.status.busy": "2023-02-07T20:53:08.360546Z",
     "iopub.status.idle": "2023-02-07T20:53:08.376433Z",
     "shell.execute_reply": "2023-02-07T20:53:08.375127Z",
     "shell.execute_reply.started": "2023-02-07T20:53:08.361463Z"
    }
   },
   "outputs": [
    {
     "data": {
      "text/html": [
       "<div>\n",
       "<style scoped>\n",
       "    .dataframe tbody tr th:only-of-type {\n",
       "        vertical-align: middle;\n",
       "    }\n",
       "\n",
       "    .dataframe tbody tr th {\n",
       "        vertical-align: top;\n",
       "    }\n",
       "\n",
       "    .dataframe thead th {\n",
       "        text-align: right;\n",
       "    }\n",
       "</style>\n",
       "<table border=\"1\" class=\"dataframe\">\n",
       "  <thead>\n",
       "    <tr style=\"text-align: right;\">\n",
       "      <th></th>\n",
       "      <th>site_id</th>\n",
       "      <th>patient_id</th>\n",
       "      <th>image_id</th>\n",
       "      <th>age</th>\n",
       "      <th>implant</th>\n",
       "      <th>machine_id</th>\n",
       "      <th>laterality_R</th>\n",
       "      <th>view_MLO</th>\n",
       "      <th>view_CC</th>\n",
       "      <th>view_LM</th>\n",
       "      <th>view_LMO</th>\n",
       "      <th>view_ML</th>\n",
       "    </tr>\n",
       "  </thead>\n",
       "  <tbody>\n",
       "    <tr>\n",
       "      <th>0</th>\n",
       "      <td>2</td>\n",
       "      <td>10008</td>\n",
       "      <td>736471439</td>\n",
       "      <td>81</td>\n",
       "      <td>0</td>\n",
       "      <td>21</td>\n",
       "      <td>0</td>\n",
       "      <td>1</td>\n",
       "      <td>0</td>\n",
       "      <td>0</td>\n",
       "      <td>0</td>\n",
       "      <td>0</td>\n",
       "    </tr>\n",
       "    <tr>\n",
       "      <th>1</th>\n",
       "      <td>2</td>\n",
       "      <td>10008</td>\n",
       "      <td>1591370361</td>\n",
       "      <td>81</td>\n",
       "      <td>0</td>\n",
       "      <td>21</td>\n",
       "      <td>0</td>\n",
       "      <td>0</td>\n",
       "      <td>0</td>\n",
       "      <td>0</td>\n",
       "      <td>0</td>\n",
       "      <td>0</td>\n",
       "    </tr>\n",
       "    <tr>\n",
       "      <th>2</th>\n",
       "      <td>2</td>\n",
       "      <td>10008</td>\n",
       "      <td>68070693</td>\n",
       "      <td>81</td>\n",
       "      <td>0</td>\n",
       "      <td>21</td>\n",
       "      <td>1</td>\n",
       "      <td>1</td>\n",
       "      <td>0</td>\n",
       "      <td>0</td>\n",
       "      <td>0</td>\n",
       "      <td>0</td>\n",
       "    </tr>\n",
       "    <tr>\n",
       "      <th>3</th>\n",
       "      <td>2</td>\n",
       "      <td>10008</td>\n",
       "      <td>361203119</td>\n",
       "      <td>81</td>\n",
       "      <td>0</td>\n",
       "      <td>21</td>\n",
       "      <td>1</td>\n",
       "      <td>0</td>\n",
       "      <td>0</td>\n",
       "      <td>0</td>\n",
       "      <td>0</td>\n",
       "      <td>0</td>\n",
       "    </tr>\n",
       "  </tbody>\n",
       "</table>\n",
       "</div>"
      ],
      "text/plain": [
       "   site_id  patient_id    image_id  age  implant  machine_id  laterality_R  \\\n",
       "0        2       10008   736471439   81        0          21             0   \n",
       "1        2       10008  1591370361   81        0          21             0   \n",
       "2        2       10008    68070693   81        0          21             1   \n",
       "3        2       10008   361203119   81        0          21             1   \n",
       "\n",
       "   view_MLO  view_CC  view_LM  view_LMO  view_ML  \n",
       "0         1        0        0         0        0  \n",
       "1         0        0        0         0        0  \n",
       "2         1        0        0         0        0  \n",
       "3         0        0        0         0        0  "
      ]
     },
     "execution_count": 19,
     "metadata": {},
     "output_type": "execute_result"
    }
   ],
   "source": [
    "ind_vars_num_test"
   ]
  },
  {
   "cell_type": "code",
   "execution_count": 20,
   "metadata": {
    "execution": {
     "iopub.execute_input": "2023-02-07T20:53:10.292703Z",
     "iopub.status.busy": "2023-02-07T20:53:10.292269Z",
     "iopub.status.idle": "2023-02-07T20:53:10.299843Z",
     "shell.execute_reply": "2023-02-07T20:53:10.298561Z",
     "shell.execute_reply.started": "2023-02-07T20:53:10.292662Z"
    }
   },
   "outputs": [],
   "source": [
    "ind_vars_num_test = ind_vars_num_test.filter(['site_id', 'patient_id', 'image_id', 'age', 'implant', 'machine_id', 'laterality_R', 'view_MLO', 'view_CC', 'view_LM','view_LMO','view_ML'])"
   ]
  },
  {
   "cell_type": "code",
   "execution_count": 21,
   "metadata": {
    "execution": {
     "iopub.execute_input": "2023-02-07T20:53:12.423969Z",
     "iopub.status.busy": "2023-02-07T20:53:12.423551Z",
     "iopub.status.idle": "2023-02-07T20:53:12.929870Z",
     "shell.execute_reply": "2023-02-07T20:53:12.928869Z",
     "shell.execute_reply.started": "2023-02-07T20:53:12.423935Z"
    }
   },
   "outputs": [
    {
     "name": "stderr",
     "output_type": "stream",
     "text": [
      "2023-02-07 20:53:12.496985: I tensorflow/compiler/mlir/mlir_graph_optimization_pass.cc:185] None of the MLIR Optimization Passes are enabled (registered 2)\n"
     ]
    }
   ],
   "source": [
    "preds = new_model.predict([ind_vars_num_test, images_test])\n",
    "df_t['cancer'] = preds"
   ]
  },
  {
   "cell_type": "code",
   "execution_count": 22,
   "metadata": {
    "execution": {
     "iopub.execute_input": "2023-02-07T20:53:14.499440Z",
     "iopub.status.busy": "2023-02-07T20:53:14.499008Z",
     "iopub.status.idle": "2023-02-07T20:53:14.514076Z",
     "shell.execute_reply": "2023-02-07T20:53:14.512857Z",
     "shell.execute_reply.started": "2023-02-07T20:53:14.499403Z"
    }
   },
   "outputs": [
    {
     "data": {
      "text/html": [
       "<div>\n",
       "<style scoped>\n",
       "    .dataframe tbody tr th:only-of-type {\n",
       "        vertical-align: middle;\n",
       "    }\n",
       "\n",
       "    .dataframe tbody tr th {\n",
       "        vertical-align: top;\n",
       "    }\n",
       "\n",
       "    .dataframe thead th {\n",
       "        text-align: right;\n",
       "    }\n",
       "</style>\n",
       "<table border=\"1\" class=\"dataframe\">\n",
       "  <thead>\n",
       "    <tr style=\"text-align: right;\">\n",
       "      <th></th>\n",
       "      <th>site_id</th>\n",
       "      <th>patient_id</th>\n",
       "      <th>image_id</th>\n",
       "      <th>laterality</th>\n",
       "      <th>view</th>\n",
       "      <th>age</th>\n",
       "      <th>implant</th>\n",
       "      <th>machine_id</th>\n",
       "      <th>prediction_id</th>\n",
       "      <th>cancer</th>\n",
       "    </tr>\n",
       "  </thead>\n",
       "  <tbody>\n",
       "    <tr>\n",
       "      <th>0</th>\n",
       "      <td>2</td>\n",
       "      <td>10008</td>\n",
       "      <td>736471439</td>\n",
       "      <td>L</td>\n",
       "      <td>MLO</td>\n",
       "      <td>81</td>\n",
       "      <td>0</td>\n",
       "      <td>21</td>\n",
       "      <td>10008_L</td>\n",
       "      <td>0.486403</td>\n",
       "    </tr>\n",
       "    <tr>\n",
       "      <th>1</th>\n",
       "      <td>2</td>\n",
       "      <td>10008</td>\n",
       "      <td>1591370361</td>\n",
       "      <td>L</td>\n",
       "      <td>CC</td>\n",
       "      <td>81</td>\n",
       "      <td>0</td>\n",
       "      <td>21</td>\n",
       "      <td>10008_L</td>\n",
       "      <td>0.482372</td>\n",
       "    </tr>\n",
       "    <tr>\n",
       "      <th>2</th>\n",
       "      <td>2</td>\n",
       "      <td>10008</td>\n",
       "      <td>68070693</td>\n",
       "      <td>R</td>\n",
       "      <td>MLO</td>\n",
       "      <td>81</td>\n",
       "      <td>0</td>\n",
       "      <td>21</td>\n",
       "      <td>10008_R</td>\n",
       "      <td>0.482254</td>\n",
       "    </tr>\n",
       "    <tr>\n",
       "      <th>3</th>\n",
       "      <td>2</td>\n",
       "      <td>10008</td>\n",
       "      <td>361203119</td>\n",
       "      <td>R</td>\n",
       "      <td>CC</td>\n",
       "      <td>81</td>\n",
       "      <td>0</td>\n",
       "      <td>21</td>\n",
       "      <td>10008_R</td>\n",
       "      <td>0.479695</td>\n",
       "    </tr>\n",
       "  </tbody>\n",
       "</table>\n",
       "</div>"
      ],
      "text/plain": [
       "   site_id  patient_id    image_id laterality view  age  implant  machine_id  \\\n",
       "0        2       10008   736471439          L  MLO   81        0          21   \n",
       "1        2       10008  1591370361          L   CC   81        0          21   \n",
       "2        2       10008    68070693          R  MLO   81        0          21   \n",
       "3        2       10008   361203119          R   CC   81        0          21   \n",
       "\n",
       "  prediction_id    cancer  \n",
       "0       10008_L  0.486403  \n",
       "1       10008_L  0.482372  \n",
       "2       10008_R  0.482254  \n",
       "3       10008_R  0.479695  "
      ]
     },
     "execution_count": 22,
     "metadata": {},
     "output_type": "execute_result"
    }
   ],
   "source": [
    "df_t"
   ]
  },
  {
   "cell_type": "code",
   "execution_count": 23,
   "metadata": {
    "execution": {
     "iopub.execute_input": "2023-02-07T20:53:16.560479Z",
     "iopub.status.busy": "2023-02-07T20:53:16.560051Z",
     "iopub.status.idle": "2023-02-07T20:53:16.568359Z",
     "shell.execute_reply": "2023-02-07T20:53:16.567159Z",
     "shell.execute_reply.started": "2023-02-07T20:53:16.560444Z"
    }
   },
   "outputs": [],
   "source": [
    "output = df_t[['prediction_id','cancer']]"
   ]
  },
  {
   "cell_type": "code",
   "execution_count": 27,
   "metadata": {
    "execution": {
     "iopub.execute_input": "2023-02-07T20:53:48.449459Z",
     "iopub.status.busy": "2023-02-07T20:53:48.449058Z",
     "iopub.status.idle": "2023-02-07T20:53:48.460227Z",
     "shell.execute_reply": "2023-02-07T20:53:48.459127Z",
     "shell.execute_reply.started": "2023-02-07T20:53:48.449426Z"
    }
   },
   "outputs": [
    {
     "data": {
      "text/html": [
       "<div>\n",
       "<style scoped>\n",
       "    .dataframe tbody tr th:only-of-type {\n",
       "        vertical-align: middle;\n",
       "    }\n",
       "\n",
       "    .dataframe tbody tr th {\n",
       "        vertical-align: top;\n",
       "    }\n",
       "\n",
       "    .dataframe thead th {\n",
       "        text-align: right;\n",
       "    }\n",
       "</style>\n",
       "<table border=\"1\" class=\"dataframe\">\n",
       "  <thead>\n",
       "    <tr style=\"text-align: right;\">\n",
       "      <th></th>\n",
       "      <th>prediction_id</th>\n",
       "      <th>cancer</th>\n",
       "    </tr>\n",
       "  </thead>\n",
       "  <tbody>\n",
       "    <tr>\n",
       "      <th>0</th>\n",
       "      <td>10008_L</td>\n",
       "      <td>0.484388</td>\n",
       "    </tr>\n",
       "    <tr>\n",
       "      <th>1</th>\n",
       "      <td>10008_R</td>\n",
       "      <td>0.480974</td>\n",
       "    </tr>\n",
       "  </tbody>\n",
       "</table>\n",
       "</div>"
      ],
      "text/plain": [
       "  prediction_id    cancer\n",
       "0       10008_L  0.484388\n",
       "1       10008_R  0.480974"
      ]
     },
     "execution_count": 27,
     "metadata": {},
     "output_type": "execute_result"
    }
   ],
   "source": [
    "output"
   ]
  },
  {
   "cell_type": "code",
   "execution_count": 26,
   "metadata": {
    "execution": {
     "iopub.execute_input": "2023-02-07T20:53:46.084831Z",
     "iopub.status.busy": "2023-02-07T20:53:46.084417Z",
     "iopub.status.idle": "2023-02-07T20:53:46.093724Z",
     "shell.execute_reply": "2023-02-07T20:53:46.092331Z",
     "shell.execute_reply.started": "2023-02-07T20:53:46.084796Z"
    }
   },
   "outputs": [],
   "source": [
    "output = output.groupby('prediction_id', as_index=False).mean()"
   ]
  },
  {
   "cell_type": "code",
   "execution_count": 28,
   "metadata": {
    "execution": {
     "iopub.execute_input": "2023-02-07T20:53:54.553096Z",
     "iopub.status.busy": "2023-02-07T20:53:54.552688Z",
     "iopub.status.idle": "2023-02-07T20:53:54.562217Z",
     "shell.execute_reply": "2023-02-07T20:53:54.560858Z",
     "shell.execute_reply.started": "2023-02-07T20:53:54.553063Z"
    }
   },
   "outputs": [],
   "source": [
    "output.to_csv('submission.csv', index=False)"
   ]
  },
  {
   "cell_type": "code",
   "execution_count": 29,
   "metadata": {
    "execution": {
     "iopub.execute_input": "2023-02-07T20:54:12.543343Z",
     "iopub.status.busy": "2023-02-07T20:54:12.542925Z",
     "iopub.status.idle": "2023-02-07T20:54:12.550966Z",
     "shell.execute_reply": "2023-02-07T20:54:12.549582Z",
     "shell.execute_reply.started": "2023-02-07T20:54:12.543307Z"
    }
   },
   "outputs": [],
   "source": [
    "#os.remove(\"/kaggle/working/state.db\")\n",
    "\n",
    "import glob\n",
    "import os\n",
    "import shutil\n",
    "\n",
    "location = \"/kaggle/working\"\n",
    "dir = 'output'\n",
    "path = os.path.join(location, dir)\n",
    "shutil.rmtree(path, ignore_errors = False)"
   ]
  }
 ],
 "metadata": {
  "kernelspec": {
   "display_name": "Python 3",
   "language": "python",
   "name": "python3"
  },
  "language_info": {
   "codemirror_mode": {
    "name": "ipython",
    "version": 3
   },
   "file_extension": ".py",
   "mimetype": "text/x-python",
   "name": "python",
   "nbconvert_exporter": "python",
   "pygments_lexer": "ipython3",
   "version": "3.8.8"
  }
 },
 "nbformat": 4,
 "nbformat_minor": 4
}
